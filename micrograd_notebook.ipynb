{
 "cells": [
  {
   "cell_type": "markdown",
   "id": "783b6253",
   "metadata": {},
   "source": [
    "# Micrograd Implementation Notebook"
   ]
  },
  {
   "cell_type": "markdown",
   "id": "e79b3eb9",
   "metadata": {},
   "source": [
    "## Necessary libraries"
   ]
  },
  {
   "cell_type": "code",
   "execution_count": 1,
   "id": "0ce07cc1",
   "metadata": {
    "ExecuteTime": {
     "end_time": "2023-08-18T04:50:36.001043Z",
     "start_time": "2023-08-18T04:50:34.955034Z"
    }
   },
   "outputs": [],
   "source": [
    "import math\n",
    "import numpy as np\n",
    "import matplotlib.pyplot as plt\n",
    "%matplotlib inline"
   ]
  },
  {
   "cell_type": "markdown",
   "id": "deaff290",
   "metadata": {},
   "source": [
    "## Derivative with one input"
   ]
  },
  {
   "cell_type": "code",
   "execution_count": 2,
   "id": "ea744692",
   "metadata": {
    "ExecuteTime": {
     "end_time": "2023-08-18T04:50:36.028129Z",
     "start_time": "2023-08-18T04:50:36.001043Z"
    }
   },
   "outputs": [
    {
     "data": {
      "text/plain": [
       "20.0"
      ]
     },
     "execution_count": 2,
     "metadata": {},
     "output_type": "execute_result"
    }
   ],
   "source": [
    "def f(x):\n",
    "    return 3*x**2 - 4*x + 5\n",
    "\n",
    "f(3.0)"
   ]
  },
  {
   "cell_type": "code",
   "execution_count": 3,
   "id": "6df1a77e",
   "metadata": {
    "ExecuteTime": {
     "end_time": "2023-08-18T04:50:36.159887Z",
     "start_time": "2023-08-18T04:50:36.032339Z"
    }
   },
   "outputs": [
    {
     "data": {
      "text/plain": [
       "array([100.    ,  91.6875,  83.75  ,  76.1875,  69.    ,  62.1875,\n",
       "        55.75  ,  49.6875,  44.    ,  38.6875,  33.75  ,  29.1875,\n",
       "        25.    ,  21.1875,  17.75  ,  14.6875,  12.    ,   9.6875,\n",
       "         7.75  ,   6.1875,   5.    ,   4.1875,   3.75  ,   3.6875,\n",
       "         4.    ,   4.6875,   5.75  ,   7.1875,   9.    ,  11.1875,\n",
       "        13.75  ,  16.6875,  20.    ,  23.6875,  27.75  ,  32.1875,\n",
       "        37.    ,  42.1875,  47.75  ,  53.6875])"
      ]
     },
     "execution_count": 3,
     "metadata": {},
     "output_type": "execute_result"
    }
   ],
   "source": [
    "xs = np.arange(-5, 5, 0.25)\n",
    "ys = f(xs)\n",
    "ys"
   ]
  },
  {
   "cell_type": "code",
   "execution_count": 4,
   "id": "505bed3e",
   "metadata": {
    "ExecuteTime": {
     "end_time": "2023-08-18T04:50:36.476851Z",
     "start_time": "2023-08-18T04:50:36.159887Z"
    }
   },
   "outputs": [
    {
     "data": {
      "text/plain": [
       "Text(0.5, 1.0, '$f(x)=3x^2-4x+5$')"
      ]
     },
     "execution_count": 4,
     "metadata": {},
     "output_type": "execute_result"
    },
    {
     "data": {
      "image/png": "[encoded data removed]",
      "text/plain": [
       "<Figure size 640x480 with 1 Axes>"
      ]
     },
     "metadata": {},
     "output_type": "display_data"
    }
   ],
   "source": [
    "plt.plot(xs, ys)\n",
    "plt.xlabel('X')\n",
    "plt.ylabel('Y')\n",
    "plt.title('$f(x)=3x^2-4x+5$')"
   ]
  },
  {
   "cell_type": "markdown",
   "id": "6421075e",
   "metadata": {},
   "source": [
    "No one in real life tries to find the derivatives by hand. To calculate it we need to understand what the derivative does.\n",
    "\n",
    "For example we can take our `x=3` and a very small `h=0.001`. If we plug it to our function $f(x+h)$ we will see that the value has slightly increased. Therefore slightly going in a positive direction will increase the value for our function. \n",
    "\n",
    "We can take $\\large\\frac{f(x+h)-f(x)}{h}$ to obrain the slope of the function, which is roughly 14.\n",
    "If we differentiate by hand, we can see that the approximation is correct:\n",
    "\n",
    "$f(x)'=6x-4$\n",
    "\n",
    "$f(3.0)=18-4=14$"
   ]
  },
  {
   "cell_type": "code",
   "execution_count": 5,
   "id": "6e55dc82",
   "metadata": {
    "ExecuteTime": {
     "end_time": "2023-08-18T04:50:36.502370Z",
     "start_time": "2023-08-18T04:50:36.476851Z"
    }
   },
   "outputs": [
    {
     "data": {
      "text/plain": [
       "20.00000014"
      ]
     },
     "execution_count": 5,
     "metadata": {},
     "output_type": "execute_result"
    }
   ],
   "source": [
    "h = 0.00000001\n",
    "x = 3.0\n",
    "f(x + h)"
   ]
  },
  {
   "cell_type": "code",
   "execution_count": 6,
   "id": "16a32253",
   "metadata": {
    "ExecuteTime": {
     "end_time": "2023-08-18T04:50:36.634641Z",
     "start_time": "2023-08-18T04:50:36.505966Z"
    }
   },
   "outputs": [
    {
     "data": {
      "text/plain": [
       "14.00000009255109"
      ]
     },
     "execution_count": 6,
     "metadata": {},
     "output_type": "execute_result"
    }
   ],
   "source": [
    "(f(x + h) - f(x)) / h"
   ]
  },
  {
   "cell_type": "code",
   "execution_count": 7,
   "id": "3da9211d",
   "metadata": {
    "ExecuteTime": {
     "end_time": "2023-08-18T04:50:36.659101Z",
     "start_time": "2023-08-18T04:50:36.634641Z"
    }
   },
   "outputs": [
    {
     "data": {
      "text/plain": [
       "43.999999779999996"
      ]
     },
     "execution_count": 7,
     "metadata": {},
     "output_type": "execute_result"
    }
   ],
   "source": [
    "h = 0.00000001\n",
    "x = -3.0\n",
    "f(x + h)"
   ]
  },
  {
   "cell_type": "code",
   "execution_count": 8,
   "id": "a07a9560",
   "metadata": {
    "ExecuteTime": {
     "end_time": "2023-08-18T04:50:36.674777Z",
     "start_time": "2023-08-18T04:50:36.659101Z"
    }
   },
   "outputs": [
    {
     "data": {
      "text/plain": [
       "-22.00000039920269"
      ]
     },
     "execution_count": 8,
     "metadata": {},
     "output_type": "execute_result"
    }
   ],
   "source": [
    "(f(x + h) - f(x)) / h"
   ]
  },
  {
   "cell_type": "markdown",
   "id": "2026daf5",
   "metadata": {},
   "source": [
    "We can find where the slop is zero by solving the $f(x)'=0$\n",
    "\n",
    "The answer is $\\large\\frac{2}{3}$"
   ]
  },
  {
   "cell_type": "code",
   "execution_count": 9,
   "id": "5e52acc0",
   "metadata": {
    "ExecuteTime": {
     "end_time": "2023-08-18T04:50:36.691119Z",
     "start_time": "2023-08-18T04:50:36.674777Z"
    }
   },
   "outputs": [
    {
     "data": {
      "text/plain": [
       "3.666666666666667"
      ]
     },
     "execution_count": 9,
     "metadata": {},
     "output_type": "execute_result"
    }
   ],
   "source": [
    "h = 0.00000001\n",
    "x = 2 / 3\n",
    "f(x + h)"
   ]
  },
  {
   "cell_type": "code",
   "execution_count": 10,
   "id": "b51916e4",
   "metadata": {
    "ExecuteTime": {
     "end_time": "2023-08-18T04:50:36.704676Z",
     "start_time": "2023-08-18T04:50:36.694700Z"
    }
   },
   "outputs": [
    {
     "data": {
      "text/plain": [
       "0.0"
      ]
     },
     "execution_count": 10,
     "metadata": {},
     "output_type": "execute_result"
    }
   ],
   "source": [
    "(f(x + h) - f(x)) / h"
   ]
  },
  {
   "cell_type": "markdown",
   "id": "d087cb95",
   "metadata": {},
   "source": [
    "## Derivative with Multiple Inputs"
   ]
  },
  {
   "cell_type": "code",
   "execution_count": 11,
   "id": "9bdfa648",
   "metadata": {
    "ExecuteTime": {
     "end_time": "2023-08-18T04:50:36.732184Z",
     "start_time": "2023-08-18T04:50:36.707700Z"
    }
   },
   "outputs": [
    {
     "name": "stdout",
     "output_type": "stream",
     "text": [
      "d1: 4.0\n",
      "d2: 3.999699999999999\n",
      "slope:  -3.000000000010772\n"
     ]
    }
   ],
   "source": [
    "h=0.0001\n",
    "a = 2.0\n",
    "b = -3.0\n",
    "c = 10.0\n",
    "d1 = a * b + c\n",
    "print('d1:',d1)\n",
    "a += h # Derivative of d with respect to a\n",
    "d2 = a * b + c\n",
    "print('d2:',d2)\n",
    "print('slope: ', (d2 - d1) / h)"
   ]
  },
  {
   "cell_type": "markdown",
   "id": "26b986a1",
   "metadata": {},
   "source": [
    "## Value object for micrograd"
   ]
  },
  {
   "cell_type": "code",
   "execution_count": 131,
   "id": "56df0c33",
   "metadata": {
    "ExecuteTime": {
     "end_time": "2023-08-18T05:31:40.449138Z",
     "start_time": "2023-08-18T05:31:40.420729Z"
    }
   },
   "outputs": [],
   "source": [
    "class Value:\n",
    "    def __init__(self, data, _children=(), _op='', label=''):\n",
    "        self.data = data\n",
    "        self._prev = set(_children)\n",
    "        self._op = _op\n",
    "        self.label = label\n",
    "        self.grad=0\n",
    "    \n",
    "    def __repr__(self):\n",
    "        return f\"Value(data={self.data})\"\n",
    "    \n",
    "    def __add__(self, other):\n",
    "        output = Value(self.data + other.data, (self, other), '+')\n",
    "        return output\n",
    "    \n",
    "    def __mul__(self, other):\n",
    "        output = Value(self.data * other.data, (self, other), '*')\n",
    "        return output\n"
   ]
  },
  {
   "cell_type": "code",
   "execution_count": 132,
   "id": "53a05933",
   "metadata": {
    "ExecuteTime": {
     "end_time": "2023-08-18T05:31:40.671811Z",
     "start_time": "2023-08-18T05:31:40.655617Z"
    },
    "scrolled": true
   },
   "outputs": [],
   "source": [
    "a = Value(2.0, label='a')\n",
    "b = Value(-3.0, label='b')\n",
    "c = Value(10.0, label='c')\n",
    "e = a * b\n",
    "e.label = 'e'\n",
    "d = e + c  # a.__mul__(b).__add__(c)\n",
    "d.label='d'\n",
    "f = Value(-2.0, label='f')\n",
    "L = d * f\n",
    "L.label='L'"
   ]
  },
  {
   "cell_type": "markdown",
   "id": "5cd7416d",
   "metadata": {},
   "source": [
    "## Vizualization of Propogation"
   ]
  },
  {
   "cell_type": "code",
   "execution_count": 139,
   "id": "af8d0e61",
   "metadata": {
    "ExecuteTime": {
     "end_time": "2023-08-18T05:35:36.925101Z",
     "start_time": "2023-08-18T05:35:36.901070Z"
    }
   },
   "outputs": [],
   "source": [
    "from graphviz import Digraph\n",
    "\n",
    "\n",
    "def trace(root):\n",
    "    # Build the set of all nodes and edges in a graph\n",
    "    nodes, edges = set(), set()\n",
    "\n",
    "    def build(node):\n",
    "        if node not in nodes:\n",
    "            nodes.add(node)\n",
    "            for child in node._prev:\n",
    "                edges.add((child, node))\n",
    "                build(child)\n",
    "\n",
    "    build(root)\n",
    "    return nodes, edges\n",
    "\n",
    "\n",
    "def draw_dot(root):\n",
    "    dot = Digraph(format='svg', graph_attr={'rankdir':\n",
    "                                            'LR'})  # LR means Left-to-Right\n",
    "    nodes, edges = trace(root)\n",
    "    for n in nodes:\n",
    "        uid = str(id(n))\n",
    "        # If value, create a rectangular node\n",
    "        dot.node(name=uid, label=f'{{ {n.label} | data {n.data:.4f} | grad {n.grad:.4f} }}', shape='record')\n",
    "        if n._op:\n",
    "            # If operation, create circular node\n",
    "            dot.node(name=uid + n._op, label=n._op)\n",
    "            dot.edge(uid + n._op, uid)\n",
    "\n",
    "    for n1, n2 in edges:\n",
    "        dot.edge(str(id(n1)),\n",
    "                 str(id(n2)) + n2._op)  # Connect Nodes throught the operation\n",
    "\n",
    "    return dot"
   ]
  },
  {
   "cell_type": "code",
   "execution_count": 140,
   "id": "1d6655c4",
   "metadata": {
    "ExecuteTime": {
     "end_time": "2023-08-18T05:35:37.355136Z",
     "start_time": "2023-08-18T05:35:37.307333Z"
    }
   },
   "outputs": [
    {
     "data": {
      "image/svg+xml": [
       "<?xml version=\"1.0\" encoding=\"UTF-8\" standalone=\"no\"?>\n",
       "<!DOCTYPE svg PUBLIC \"-//W3C//DTD SVG 1.1//EN\"\n",
       " \"http://www.w3.org/Graphics/SVG/1.1/DTD/svg11.dtd\">\n",
       "<!-- Generated by graphviz version 8.1.0 (20230707.0739)\n",
       " -->\n",
       "<!-- Pages: 1 -->\n",
       "<svg width=\"1147pt\" height=\"154pt\"\n",
       " viewBox=\"0.00 0.00 1147.25 154.00\" xmlns=\"http://www.w3.org/2000/svg\" xmlns:xlink=\"http://www.w3.org/1999/xlink\">\n",
       "<g id=\"graph0\" class=\"graph\" transform=\"scale(1 1) rotate(0) translate(4 150)\">\n",
       "<polygon fill=\"white\" stroke=\"none\" points=\"-4,4 -4,-150 1143.25,-150 1143.25,4 -4,4\"/>\n",
       "<!-- 2242723801600 -->\n",
       "<g id=\"node1\" class=\"node\">\n",
       "<title>2242723801600</title>\n",
       "<polygon fill=\"none\" stroke=\"black\" points=\"318,-27.5 318,-63.5 507,-63.5 507,-27.5 318,-27.5\"/>\n",
       "<text text-anchor=\"middle\" x=\"329\" y=\"-40.2\" font-family=\"Times New Roman,serif\" font-size=\"14.00\">e</text>\n",
       "<polyline fill=\"none\" stroke=\"black\" points=\"340,-27.75 340,-63.5\"/>\n",
       "<text text-anchor=\"middle\" x=\"382.5\" y=\"-40.2\" font-family=\"Times New Roman,serif\" font-size=\"14.00\">data &#45;6.0000</text>\n",
       "<polyline fill=\"none\" stroke=\"black\" points=\"425,-27.75 425,-63.5\"/>\n",
       "<text text-anchor=\"middle\" x=\"466\" y=\"-40.2\" font-family=\"Times New Roman,serif\" font-size=\"14.00\">grad 0.0000</text>\n",
       "</g>\n",
       "<!-- 2242723802224+ -->\n",
       "<g id=\"node6\" class=\"node\">\n",
       "<title>2242723802224+</title>\n",
       "<ellipse fill=\"none\" stroke=\"black\" cx=\"571.5\" cy=\"-72.5\" rx=\"27\" ry=\"18\"/>\n",
       "<text text-anchor=\"middle\" x=\"571.5\" y=\"-67.08\" font-family=\"Times New Roman,serif\" font-size=\"14.00\">+</text>\n",
       "</g>\n",
       "<!-- 2242723801600&#45;&gt;2242723802224+ -->\n",
       "<g id=\"edge4\" class=\"edge\">\n",
       "<title>2242723801600&#45;&gt;2242723802224+</title>\n",
       "<path fill=\"none\" stroke=\"black\" d=\"M506.64,-61.52C516.38,-63.19 525.8,-64.81 534.28,-66.27\"/>\n",
       "<polygon fill=\"black\" stroke=\"black\" points=\"533.39,-69.84 543.84,-68.09 534.58,-62.94 533.39,-69.84\"/>\n",
       "</g>\n",
       "<!-- 2242723801600* -->\n",
       "<g id=\"node2\" class=\"node\">\n",
       "<title>2242723801600*</title>\n",
       "<ellipse fill=\"none\" stroke=\"black\" cx=\"253.5\" cy=\"-45.5\" rx=\"27\" ry=\"18\"/>\n",
       "<text text-anchor=\"middle\" x=\"253.5\" y=\"-40.08\" font-family=\"Times New Roman,serif\" font-size=\"14.00\">*</text>\n",
       "</g>\n",
       "<!-- 2242723801600*&#45;&gt;2242723801600 -->\n",
       "<g id=\"edge1\" class=\"edge\">\n",
       "<title>2242723801600*&#45;&gt;2242723801600</title>\n",
       "<path fill=\"none\" stroke=\"black\" d=\"M280.78,-45.5C288.52,-45.5 297.49,-45.5 307.05,-45.5\"/>\n",
       "<polygon fill=\"black\" stroke=\"black\" points=\"307.04,-49 317.04,-45.5 307.04,-42 307.04,-49\"/>\n",
       "</g>\n",
       "<!-- 2242723799104 -->\n",
       "<g id=\"node3\" class=\"node\">\n",
       "<title>2242723799104</title>\n",
       "<polygon fill=\"none\" stroke=\"black\" points=\"948,-81.5 948,-117.5 1139.25,-117.5 1139.25,-81.5 948,-81.5\"/>\n",
       "<text text-anchor=\"middle\" x=\"960.12\" y=\"-94.2\" font-family=\"Times New Roman,serif\" font-size=\"14.00\">L</text>\n",
       "<polyline fill=\"none\" stroke=\"black\" points=\"972.25,-81.75 972.25,-117.5\"/>\n",
       "<text text-anchor=\"middle\" x=\"1014.75\" y=\"-94.2\" font-family=\"Times New Roman,serif\" font-size=\"14.00\">data &#45;8.0000</text>\n",
       "<polyline fill=\"none\" stroke=\"black\" points=\"1057.25,-81.75 1057.25,-117.5\"/>\n",
       "<text text-anchor=\"middle\" x=\"1098.25\" y=\"-94.2\" font-family=\"Times New Roman,serif\" font-size=\"14.00\">grad 0.0000</text>\n",
       "</g>\n",
       "<!-- 2242723799104* -->\n",
       "<g id=\"node4\" class=\"node\">\n",
       "<title>2242723799104*</title>\n",
       "<ellipse fill=\"none\" stroke=\"black\" cx=\"885\" cy=\"-99.5\" rx=\"27\" ry=\"18\"/>\n",
       "<text text-anchor=\"middle\" x=\"885\" y=\"-94.08\" font-family=\"Times New Roman,serif\" font-size=\"14.00\">*</text>\n",
       "</g>\n",
       "<!-- 2242723799104*&#45;&gt;2242723799104 -->\n",
       "<g id=\"edge2\" class=\"edge\">\n",
       "<title>2242723799104*&#45;&gt;2242723799104</title>\n",
       "<path fill=\"none\" stroke=\"black\" d=\"M912.22,-99.5C919.6,-99.5 928.12,-99.5 937.19,-99.5\"/>\n",
       "<polygon fill=\"black\" stroke=\"black\" points=\"937.06,-103 947.06,-99.5 937.06,-96 937.06,-103\"/>\n",
       "</g>\n",
       "<!-- 2242723802224 -->\n",
       "<g id=\"node5\" class=\"node\">\n",
       "<title>2242723802224</title>\n",
       "<polygon fill=\"none\" stroke=\"black\" points=\"635.25,-54.5 635.25,-90.5 821.25,-90.5 821.25,-54.5 635.25,-54.5\"/>\n",
       "<text text-anchor=\"middle\" x=\"647\" y=\"-67.2\" font-family=\"Times New Roman,serif\" font-size=\"14.00\">d</text>\n",
       "<polyline fill=\"none\" stroke=\"black\" points=\"658.75,-54.75 658.75,-90.5\"/>\n",
       "<text text-anchor=\"middle\" x=\"699\" y=\"-67.2\" font-family=\"Times New Roman,serif\" font-size=\"14.00\">data 4.0000</text>\n",
       "<polyline fill=\"none\" stroke=\"black\" points=\"739.25,-54.75 739.25,-90.5\"/>\n",
       "<text text-anchor=\"middle\" x=\"780.25\" y=\"-67.2\" font-family=\"Times New Roman,serif\" font-size=\"14.00\">grad 0.0000</text>\n",
       "</g>\n",
       "<!-- 2242723802224&#45;&gt;2242723799104* -->\n",
       "<g id=\"edge7\" class=\"edge\">\n",
       "<title>2242723802224&#45;&gt;2242723799104*</title>\n",
       "<path fill=\"none\" stroke=\"black\" d=\"M821.06,-88.52C830.45,-90.16 839.56,-91.75 847.78,-93.18\"/>\n",
       "<polygon fill=\"black\" stroke=\"black\" points=\"846.95,-96.76 857.4,-95.03 848.15,-89.87 846.95,-96.76\"/>\n",
       "</g>\n",
       "<!-- 2242723802224+&#45;&gt;2242723802224 -->\n",
       "<g id=\"edge3\" class=\"edge\">\n",
       "<title>2242723802224+&#45;&gt;2242723802224</title>\n",
       "<path fill=\"none\" stroke=\"black\" d=\"M598.75,-72.5C606.39,-72.5 615.24,-72.5 624.65,-72.5\"/>\n",
       "<polygon fill=\"black\" stroke=\"black\" points=\"624.47,-76 634.47,-72.5 624.47,-69 624.47,-76\"/>\n",
       "</g>\n",
       "<!-- 2242724042976 -->\n",
       "<g id=\"node7\" class=\"node\">\n",
       "<title>2242724042976</title>\n",
       "<polygon fill=\"none\" stroke=\"black\" points=\"3,-55.5 3,-91.5 187.5,-91.5 187.5,-55.5 3,-55.5\"/>\n",
       "<text text-anchor=\"middle\" x=\"14\" y=\"-68.2\" font-family=\"Times New Roman,serif\" font-size=\"14.00\">a</text>\n",
       "<polyline fill=\"none\" stroke=\"black\" points=\"25,-55.75 25,-91.5\"/>\n",
       "<text text-anchor=\"middle\" x=\"65.25\" y=\"-68.2\" font-family=\"Times New Roman,serif\" font-size=\"14.00\">data 2.0000</text>\n",
       "<polyline fill=\"none\" stroke=\"black\" points=\"105.5,-55.75 105.5,-91.5\"/>\n",
       "<text text-anchor=\"middle\" x=\"146.5\" y=\"-68.2\" font-family=\"Times New Roman,serif\" font-size=\"14.00\">grad 0.0000</text>\n",
       "</g>\n",
       "<!-- 2242724042976&#45;&gt;2242723801600* -->\n",
       "<g id=\"edge8\" class=\"edge\">\n",
       "<title>2242724042976&#45;&gt;2242723801600*</title>\n",
       "<path fill=\"none\" stroke=\"black\" d=\"M187.14,-57.21C197.43,-55.37 207.42,-53.58 216.36,-51.98\"/>\n",
       "<polygon fill=\"black\" stroke=\"black\" points=\"216.85,-55.27 226.08,-50.06 215.61,-48.37 216.85,-55.27\"/>\n",
       "</g>\n",
       "<!-- 2242723799872 -->\n",
       "<g id=\"node8\" class=\"node\">\n",
       "<title>2242723799872</title>\n",
       "<polygon fill=\"none\" stroke=\"black\" points=\"634.5,-109.5 634.5,-145.5 822,-145.5 822,-109.5 634.5,-109.5\"/>\n",
       "<text text-anchor=\"middle\" x=\"644.75\" y=\"-122.2\" font-family=\"Times New Roman,serif\" font-size=\"14.00\">f</text>\n",
       "<polyline fill=\"none\" stroke=\"black\" points=\"655,-109.75 655,-145.5\"/>\n",
       "<text text-anchor=\"middle\" x=\"697.5\" y=\"-122.2\" font-family=\"Times New Roman,serif\" font-size=\"14.00\">data &#45;2.0000</text>\n",
       "<polyline fill=\"none\" stroke=\"black\" points=\"740,-109.75 740,-145.5\"/>\n",
       "<text text-anchor=\"middle\" x=\"781\" y=\"-122.2\" font-family=\"Times New Roman,serif\" font-size=\"14.00\">grad 0.0000</text>\n",
       "</g>\n",
       "<!-- 2242723799872&#45;&gt;2242723799104* -->\n",
       "<g id=\"edge9\" class=\"edge\">\n",
       "<title>2242723799872&#45;&gt;2242723799104*</title>\n",
       "<path fill=\"none\" stroke=\"black\" d=\"M821.95,-110.73C831.05,-109.08 839.85,-107.49 847.83,-106.04\"/>\n",
       "<polygon fill=\"black\" stroke=\"black\" points=\"848.29,-109.34 857.51,-104.11 847.05,-102.45 848.29,-109.34\"/>\n",
       "</g>\n",
       "<!-- 2242724043072 -->\n",
       "<g id=\"node9\" class=\"node\">\n",
       "<title>2242724043072</title>\n",
       "<polygon fill=\"none\" stroke=\"black\" points=\"316.5,-82.5 316.5,-118.5 508.5,-118.5 508.5,-82.5 316.5,-82.5\"/>\n",
       "<text text-anchor=\"middle\" x=\"327.88\" y=\"-95.2\" font-family=\"Times New Roman,serif\" font-size=\"14.00\">c</text>\n",
       "<polyline fill=\"none\" stroke=\"black\" points=\"339.25,-82.75 339.25,-118.5\"/>\n",
       "<text text-anchor=\"middle\" x=\"382.88\" y=\"-95.2\" font-family=\"Times New Roman,serif\" font-size=\"14.00\">data 10.0000</text>\n",
       "<polyline fill=\"none\" stroke=\"black\" points=\"426.5,-82.75 426.5,-118.5\"/>\n",
       "<text text-anchor=\"middle\" x=\"467.5\" y=\"-95.2\" font-family=\"Times New Roman,serif\" font-size=\"14.00\">grad 0.0000</text>\n",
       "</g>\n",
       "<!-- 2242724043072&#45;&gt;2242723802224+ -->\n",
       "<g id=\"edge6\" class=\"edge\">\n",
       "<title>2242724043072&#45;&gt;2242723802224+</title>\n",
       "<path fill=\"none\" stroke=\"black\" d=\"M508.45,-83.57C517.58,-81.94 526.4,-80.37 534.38,-78.94\"/>\n",
       "<polygon fill=\"black\" stroke=\"black\" points=\"534.83,-82.24 544.06,-77.04 533.6,-75.35 534.83,-82.24\"/>\n",
       "</g>\n",
       "<!-- 2242724043648 -->\n",
       "<g id=\"node10\" class=\"node\">\n",
       "<title>2242724043648</title>\n",
       "<polygon fill=\"none\" stroke=\"black\" points=\"0,-0.5 0,-36.5 190.5,-36.5 190.5,-0.5 0,-0.5\"/>\n",
       "<text text-anchor=\"middle\" x=\"11.75\" y=\"-13.2\" font-family=\"Times New Roman,serif\" font-size=\"14.00\">b</text>\n",
       "<polyline fill=\"none\" stroke=\"black\" points=\"23.5,-0.75 23.5,-36.5\"/>\n",
       "<text text-anchor=\"middle\" x=\"66\" y=\"-13.2\" font-family=\"Times New Roman,serif\" font-size=\"14.00\">data &#45;3.0000</text>\n",
       "<polyline fill=\"none\" stroke=\"black\" points=\"108.5,-0.75 108.5,-36.5\"/>\n",
       "<text text-anchor=\"middle\" x=\"149.5\" y=\"-13.2\" font-family=\"Times New Roman,serif\" font-size=\"14.00\">grad 0.0000</text>\n",
       "</g>\n",
       "<!-- 2242724043648&#45;&gt;2242723801600* -->\n",
       "<g id=\"edge5\" class=\"edge\">\n",
       "<title>2242724043648&#45;&gt;2242723801600*</title>\n",
       "<path fill=\"none\" stroke=\"black\" d=\"M190.3,-34.75C199.43,-36.33 208.27,-37.86 216.27,-39.24\"/>\n",
       "<polygon fill=\"black\" stroke=\"black\" points=\"215.52,-42.83 225.97,-41.09 216.71,-35.94 215.52,-42.83\"/>\n",
       "</g>\n",
       "</g>\n",
       "</svg>\n"
      ],
      "text/plain": [
       "<graphviz.graphs.Digraph at 0x20a2cc6afa0>"
      ]
     },
     "execution_count": 140,
     "metadata": {},
     "output_type": "execute_result"
    }
   ],
   "source": [
    "draw_dot(L)"
   ]
  },
  {
   "cell_type": "code",
   "execution_count": null,
   "id": "3dd200aa",
   "metadata": {},
   "outputs": [],
   "source": []
  }
 ],
 "metadata": {
  "kernelspec": {
   "display_name": "Python 3 (ipykernel)",
   "language": "python",
   "name": "python3"
  },
  "language_info": {
   "codemirror_mode": {
    "name": "ipython",
    "version": 3
   },
   "file_extension": ".py",
   "mimetype": "text/x-python",
   "name": "python",
   "nbconvert_exporter": "python",
   "pygments_lexer": "ipython3",
   "version": "3.9.13"
  },
  "toc": {
   "base_numbering": 1,
   "nav_menu": {},
   "number_sections": true,
   "sideBar": true,
   "skip_h1_title": false,
   "title_cell": "Table of Contents",
   "title_sidebar": "Contents",
   "toc_cell": false,
   "toc_position": {},
   "toc_section_display": true,
   "toc_window_display": false
  }
 },
 "nbformat": 4,
 "nbformat_minor": 5
}
